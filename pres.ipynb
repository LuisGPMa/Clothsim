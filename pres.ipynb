{
 "cells": [
  {
   "cell_type": "code",
   "execution_count": 1,
   "id": "fad003ac",
   "metadata": {},
   "outputs": [
    {
     "name": "stdout",
     "output_type": "stream",
     "text": [
      "pygame 2.6.1 (SDL 2.28.4, Python 3.12.2)\n",
      "Hello from the pygame community. https://www.pygame.org/contribute.html\n"
     ]
    }
   ],
   "source": [
    "from pygame_cloth import *"
   ]
  },
  {
   "cell_type": "code",
   "execution_count": 3,
   "id": "3b4be02f",
   "metadata": {},
   "outputs": [
    {
     "ename": "KeyboardInterrupt",
     "evalue": "",
     "output_type": "error",
     "traceback": [
      "\u001b[1;31m---------------------------------------------------------------------------\u001b[0m",
      "\u001b[1;31mKeyboardInterrupt\u001b[0m                         Traceback (most recent call last)",
      "Cell \u001b[1;32mIn[3], line 2\u001b[0m\n\u001b[0;32m      1\u001b[0m scene \u001b[38;5;241m=\u001b[39m Scene3D(\u001b[38;5;241m1920\u001b[39m, \u001b[38;5;241m1080\u001b[39m)\n\u001b[1;32m----> 2\u001b[0m \u001b[43mscene\u001b[49m\u001b[38;5;241;43m.\u001b[39;49m\u001b[43mrun\u001b[49m\u001b[43m(\u001b[49m\u001b[43m)\u001b[49m\n",
      "File \u001b[1;32mc:\\Users\\luisg\\OneDrive - PUCRS - BR\\mestrado\\cadeiras\\animacao\\T2_clothsim\\pygame_cloth.py:140\u001b[0m, in \u001b[0;36mScene3D.run\u001b[1;34m(self)\u001b[0m\n\u001b[0;32m    134\u001b[0m             \u001b[38;5;66;03m# Reset point mass position\u001b[39;00m\n\u001b[0;32m    135\u001b[0m             \u001b[38;5;66;03m# if self.point_masses:\u001b[39;00m\n\u001b[0;32m    136\u001b[0m             \u001b[38;5;66;03m#     self.point_masses[0].position = np.array([0.0, 2.0, 0.0])\u001b[39;00m\n\u001b[0;32m    137\u001b[0m             \u001b[38;5;66;03m#     self.point_masses[0].velocity.fill(0)\u001b[39;00m\n\u001b[0;32m    139\u001b[0m \u001b[38;5;28mself\u001b[39m\u001b[38;5;241m.\u001b[39mhandle_input()\n\u001b[1;32m--> 140\u001b[0m \u001b[38;5;28;43mself\u001b[39;49m\u001b[38;5;241;43m.\u001b[39;49m\u001b[43mupdate_physics\u001b[49m\u001b[43m(\u001b[49m\u001b[43mdt\u001b[49m\u001b[43m)\u001b[49m\n\u001b[0;32m    141\u001b[0m \u001b[38;5;28mself\u001b[39m\u001b[38;5;241m.\u001b[39mrender()\n\u001b[0;32m    142\u001b[0m \u001b[38;5;28mself\u001b[39m\u001b[38;5;241m.\u001b[39mclock\u001b[38;5;241m.\u001b[39mtick(\u001b[38;5;241m60\u001b[39m)\n",
      "File \u001b[1;32mc:\\Users\\luisg\\OneDrive - PUCRS - BR\\mestrado\\cadeiras\\animacao\\T2_clothsim\\pygame_cloth.py:53\u001b[0m, in \u001b[0;36mScene3D.update_physics\u001b[1;34m(self, dt)\u001b[0m\n\u001b[0;32m     51\u001b[0m \u001b[38;5;66;03m# Apply spring forces first\u001b[39;00m\n\u001b[0;32m     52\u001b[0m \u001b[38;5;28;01mfor\u001b[39;00m spring \u001b[38;5;129;01min\u001b[39;00m \u001b[38;5;28mself\u001b[39m\u001b[38;5;241m.\u001b[39mcloth\u001b[38;5;241m.\u001b[39mget_all_springs():\n\u001b[1;32m---> 53\u001b[0m     \u001b[43mspring\u001b[49m\u001b[38;5;241;43m.\u001b[39;49m\u001b[43mapply_spring_force\u001b[49m\u001b[43m(\u001b[49m\u001b[43m)\u001b[49m\n\u001b[0;32m     55\u001b[0m \u001b[38;5;66;03m# Update point masses\u001b[39;00m\n\u001b[0;32m     56\u001b[0m \u001b[38;5;28;01mfor\u001b[39;00m point_mass \u001b[38;5;129;01min\u001b[39;00m \u001b[38;5;28mself\u001b[39m\u001b[38;5;241m.\u001b[39mcloth\u001b[38;5;241m.\u001b[39mget_all_point_masses():\n\u001b[0;32m     57\u001b[0m     \u001b[38;5;66;03m# Skip pinned points - they don't move\u001b[39;00m\n",
      "File \u001b[1;32mc:\\Users\\luisg\\OneDrive - PUCRS - BR\\mestrado\\cadeiras\\animacao\\T2_clothsim\\Entities.py:71\u001b[0m, in \u001b[0;36mSpring.apply_spring_force\u001b[1;34m(self)\u001b[0m\n\u001b[0;32m     69\u001b[0m force_vector \u001b[38;5;241m=\u001b[39m force_magnitude \u001b[38;5;241m*\u001b[39m direction\n\u001b[0;32m     70\u001b[0m relative_velocity \u001b[38;5;241m=\u001b[39m \u001b[38;5;28mself\u001b[39m\u001b[38;5;241m.\u001b[39mpoint_b\u001b[38;5;241m.\u001b[39mvelocity \u001b[38;5;241m-\u001b[39m \u001b[38;5;28mself\u001b[39m\u001b[38;5;241m.\u001b[39mpoint_a\u001b[38;5;241m.\u001b[39mvelocity\n\u001b[1;32m---> 71\u001b[0m damping_force \u001b[38;5;241m=\u001b[39m \u001b[38;5;28mself\u001b[39m\u001b[38;5;241m.\u001b[39mdamping \u001b[38;5;241m*\u001b[39m \u001b[43mnp\u001b[49m\u001b[38;5;241;43m.\u001b[39;49m\u001b[43mdot\u001b[49m\u001b[43m(\u001b[49m\u001b[43mrelative_velocity\u001b[49m\u001b[43m,\u001b[49m\u001b[43m \u001b[49m\u001b[43mdirection\u001b[49m\u001b[43m)\u001b[49m \u001b[38;5;241m*\u001b[39m direction\n\u001b[0;32m     73\u001b[0m \u001b[38;5;66;03m# Total force\u001b[39;00m\n\u001b[0;32m     74\u001b[0m total_force \u001b[38;5;241m=\u001b[39m force_vector \u001b[38;5;241m+\u001b[39m (\u001b[38;5;241m-\u001b[39mdamping_force)\n",
      "\u001b[1;31mKeyboardInterrupt\u001b[0m: "
     ]
    }
   ],
   "source": [
    "scene = Scene3D(1920, 1080)\n",
    "scene.run()"
   ]
  }
 ],
 "metadata": {
  "kernelspec": {
   "display_name": "autobnn",
   "language": "python",
   "name": "python3"
  },
  "language_info": {
   "codemirror_mode": {
    "name": "ipython",
    "version": 3
   },
   "file_extension": ".py",
   "mimetype": "text/x-python",
   "name": "python",
   "nbconvert_exporter": "python",
   "pygments_lexer": "ipython3",
   "version": "3.12.2"
  }
 },
 "nbformat": 4,
 "nbformat_minor": 5
}
