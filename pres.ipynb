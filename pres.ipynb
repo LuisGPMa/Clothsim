{
 "cells": [
  {
   "cell_type": "code",
   "execution_count": 1,
   "id": "fad003ac",
   "metadata": {},
   "outputs": [
    {
     "name": "stdout",
     "output_type": "stream",
     "text": [
      "pygame 2.6.1 (SDL 2.28.4, Python 3.12.2)\n",
      "Hello from the pygame community. https://www.pygame.org/contribute.html\n"
     ]
    }
   ],
   "source": [
    "from pygame_cloth import *"
   ]
  },
  {
   "cell_type": "code",
   "execution_count": 2,
   "id": "3b4be02f",
   "metadata": {},
   "outputs": [],
   "source": [
    "scene = Scene3D(1920, 1080)\n",
    "scene.run()"
   ]
  }
 ],
 "metadata": {
  "kernelspec": {
   "display_name": "autobnn",
   "language": "python",
   "name": "python3"
  },
  "language_info": {
   "codemirror_mode": {
    "name": "ipython",
    "version": 3
   },
   "file_extension": ".py",
   "mimetype": "text/x-python",
   "name": "python",
   "nbconvert_exporter": "python",
   "pygments_lexer": "ipython3",
   "version": "3.12.2"
  }
 },
 "nbformat": 4,
 "nbformat_minor": 5
}
