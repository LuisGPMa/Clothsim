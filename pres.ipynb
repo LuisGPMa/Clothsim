{
 "cells": [
  {
   "cell_type": "code",
   "execution_count": 2,
   "id": "fad003ac",
   "metadata": {},
   "outputs": [
    {
     "name": "stdout",
     "output_type": "stream",
     "text": [
      "pygame 2.6.1 (SDL 2.28.4, Python 3.12.2)\n",
      "Hello from the pygame community. https://www.pygame.org/contribute.html\n"
     ]
    }
   ],
   "source": [
    "from pygame_cloth import *\n"
   ]
  },
  {
   "cell_type": "markdown",
   "id": "958652f3",
   "metadata": {},
   "source": [
    "#"
   ]
  },
  {
   "cell_type": "code",
   "execution_count": null,
   "id": "d94bf9e1",
   "metadata": {},
   "outputs": [
    {
     "name": "stdout",
     "output_type": "stream",
     "text": [
      "Cloth spawned. Num points: 400\n",
      "Added Sphere to scene\n",
      "Simulation running\n"
     ]
    }
   ],
   "source": [
    "scene = Scene3D(1920, 1080)\n",
    "cloth = Cloth(width=10, length=10, resolution_x=20, resolution_y=20, mass_per_point=.5,\n",
    "              structural_spring_stiffness=500, shear_spring_stiffness=500,\n",
    "              bending_spring_stiffness=100, spring_damping=-0.2, integration_method=IntegrationMethod.VERLET,\n",
    "              velocity_damping=0.0003)\n",
    "scene.spawn_cloth(cloth, position=[0, 0, 0])\n",
    "sphere = Sphere(position=[0, -5, 0], radius=4)\n",
    "scene.add_solid_object(sphere)\n",
    "scene.run(fps=60)"
   ]
  },
  {
   "cell_type": "code",
   "execution_count": 10,
   "id": "f9bed78f",
   "metadata": {},
   "outputs": [
    {
     "name": "stdout",
     "output_type": "stream",
     "text": [
      "Cloth spawned. Num points: 400\n",
      "Simulation running\n"
     ]
    }
   ],
   "source": [
    "scene = Scene3D(1920, 1080)\n",
    "cloth = Cloth(width=10, length=10, resolution_x=20, resolution_y=20, mass_per_point=.5,\n",
    "              structural_spring_stiffness=500, shear_spring_stiffness=500,\n",
    "              bending_spring_stiffness=100, spring_damping=-.2, integration_method=IntegrationMethod.VERLET,\n",
    "              velocity_damping=0.0007)\n",
    "scene.spawn_cloth(cloth, pin_top_edge=True, position=[0, 0, 0])\n",
    "sphere = Sphere(position=[0, -5, 0], radius=4)\n",
    "# scene.add_solid_object(sphere)\n",
    "scene.run(fps=60)"
   ]
  },
  {
   "cell_type": "code",
   "execution_count": 2,
   "id": "09fa6d30",
   "metadata": {},
   "outputs": [
    {
     "name": "stdout",
     "output_type": "stream",
     "text": [
      "Cloth spawned. Num points: 400\n",
      "Simulation running\n"
     ]
    }
   ],
   "source": [
    "scene = Scene3D(1920, 1080)\n",
    "cloth = Cloth(width=10, length=10, resolution_x=20, resolution_y=20, mass_per_point=.5,\n",
    "              structural_spring_stiffness=500, shear_spring_stiffness=500,\n",
    "              bending_spring_stiffness=100, spring_damping=-.3, integration_method=IntegrationMethod.VERLET,\n",
    "              velocity_damping=0.00025)\n",
    "scene.spawn_cloth(cloth, pin_top_edge=True, position=[0, 0, 0])\n",
    "scene.run(fps=60)\n"
   ]
  },
  {
   "cell_type": "code",
   "execution_count": null,
   "id": "0ea73f57",
   "metadata": {},
   "outputs": [
    {
     "name": "stdout",
     "output_type": "stream",
     "text": [
      "Cloth spawned. Num points: 400\n",
      "Added Sphere to scene\n",
      "Simulation running\n"
     ]
    }
   ],
   "source": [
    "scene = Scene3D(1920, 1080)\n",
    "cloth = Cloth(width=10, length=10, resolution_x=20, resolution_y=20, mass_per_point=.5,\n",
    "              structural_spring_stiffness=500, shear_spring_stiffness=500,\n",
    "              bending_spring_stiffness=100, spring_damping=-.3, integration_method=IntegrationMethod.EXPLICIT_EULER)\n",
    "scene.spawn_cloth(cloth, position=[0, 0, 0])\n",
    "sphere = Sphere(position=[0, -5, 0], radius=4)\n",
    "scene.add_solid_object(sphere)\n",
    "scene.run(fps=60)\n"
   ]
  },
  {
   "cell_type": "code",
   "execution_count": 10,
   "id": "3b4be02f",
   "metadata": {},
   "outputs": [
    {
     "name": "stdout",
     "output_type": "stream",
     "text": [
      "Cloth spawned. Num points: 400\n",
      "Added Sphere to scene\n",
      "Cloth spawned. Num points: 400\n",
      "Added Sphere to scene\n",
      "Simulation running\n"
     ]
    }
   ],
   "source": [
    "scene = Scene3D(1920, 1080)\n",
    "\n",
    "cloth = Cloth(width=10, length=10, resolution_x=20, resolution_y=20, mass_per_point=.5,\n",
    "              structural_spring_stiffness=180, shear_spring_stiffness=180,\n",
    "              bending_spring_stiffness=0, spring_damping=-.3, integration_method=IntegrationMethod.EXPLICIT_EULER)\n",
    "sphere = Sphere(position=[0, -5, 0], radius=4)\n",
    "scene.spawn_cloth(cloth, pin_top_corners=False, position=[0, 0, 0])\n",
    "scene.add_solid_object(sphere)\n",
    "\n",
    "cloth = Cloth(width=10, length=10, resolution_x=20, resolution_y=20, mass_per_point=.5,\n",
    "              structural_spring_stiffness=180, shear_spring_stiffness=180,\n",
    "              bending_spring_stiffness=0, spring_damping=-.4, integration_method=IntegrationMethod.VERLET)\n",
    "sphere = Sphere(position=[20, -5, 0], radius=4)\n",
    "scene.spawn_cloth(cloth, pin_top_corners=False, position=[20, 0, 0])\n",
    "scene.add_solid_object(sphere)\n",
    "\n",
    "\n",
    "scene.run(fps=30)"
   ]
  },
  {
   "cell_type": "markdown",
   "id": "eb1b83c5",
   "metadata": {},
   "source": []
  },
  {
   "cell_type": "markdown",
   "id": "bf15b587",
   "metadata": {},
   "source": [
    "# TO-DO\n",
    "    - Implementar implicit midpoint integration (https://onlinelibrary.wiley.com/doi/pdf/10.1002/cav.78)\n",
    "    - Testar outras configurações de conexão de molas\n",
    "    - auto-colisão"
   ]
  },
  {
   "cell_type": "markdown",
   "id": "d076eb7c",
   "metadata": {},
   "source": [
    "To implement **self-collision detection and prevention** in a cloth simulation, follow these general steps:\n",
    " \n",
    "### 1. Broad Phase: Spatial Partitioning\n",
    "- Use a spatial data structure (e.g., uniform grid, octree, or BVH) to quickly find pairs of point masses or triangles that are close enough to potentially collide.\n",
    "- This reduces the number of checks from O(n²) to something much faster.\n",
    " \n",
    "### 2. Narrow Phase: Collision Detection\n",
    "- For each candidate pair (from the broad phase), check if:\n",
    "  - **Point-Triangle:** A point mass is too close to a triangle formed by three other point masses.\n",
    "  - **Edge-Edge:** Two non-adjacent edges are intersecting or too close.\n",
    "- Ignore adjacent or nearby points/edges to avoid false positives.\n",
    " \n",
    "### 3. Collision Response (Prevention)\n",
    "- If a collision is detected (distance below a threshold), move the involved point masses apart along the collision normal so they no longer overlap.\n",
    "- Optionally, distribute the correction among all involved points for stability.\n",
    " \n",
    "### 4. Integration\n",
    "- Perform self-collision checks and responses after applying external forces and before updating positions.\n",
    " \n",
    "---\n",
    " \n",
    "#### Example (Point-Triangle Check, Pseudocode):\n",
    " \n",
    "```python\n",
    "for point in all_points:\n",
    "    for triangle in nearby_triangles:\n",
    "        if not point in triangle:\n",
    "            dist = distance_point_to_triangle(point, triangle)\n",
    "            if dist < threshold:\n",
    "                # Move point and/or triangle vertices apart\n",
    "```\n",
    " \n",
    "#### Tips:\n",
    "- Use a **hash grid** or **spatial hashing** for efficient neighbor search.\n",
    "- Tune the collision threshold to match your cloth’s thickness.\n",
    "- For stability, limit the number of corrections per time step.\n",
    " \n",
    "---\n",
    " \n",
    "**References:**\n",
    "- [Baraff & Witkin, Large Steps in Cloth Simulation (1998)](https://www.cs.cmu.edu/~baraff/papers/sig98.pdf)\n",
    "- [Müller et al., Position Based Dynamics (2007)](https://matthias-research.github.io/pages/publications/posBasedDyn.pdf)\n",
    " \n",
    "Let me know if you want a code example for a specific approach!"
   ]
  }
 ],
 "metadata": {
  "kernelspec": {
   "display_name": "autobnn",
   "language": "python",
   "name": "python3"
  },
  "language_info": {
   "codemirror_mode": {
    "name": "ipython",
    "version": 3
   },
   "file_extension": ".py",
   "mimetype": "text/x-python",
   "name": "python",
   "nbconvert_exporter": "python",
   "pygments_lexer": "ipython3",
   "version": "3.12.2"
  }
 },
 "nbformat": 4,
 "nbformat_minor": 5
}
